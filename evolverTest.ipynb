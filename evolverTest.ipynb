{
 "cells": [
  {
   "cell_type": "code",
   "execution_count": 1,
   "metadata": {},
   "outputs": [],
   "source": [
    "from genome import PolynomialGenome\n",
    "from neatGenome import NeatGenome\n",
    "from geneticAlgoritm import GeneticAlgorithm\n",
    "import altair as alt\n",
    "import pandas as pd\n",
    "\n",
    "\n",
    "def f(x):\n",
    "    return (-x**2 + 1)\n",
    "\n",
    "def plotOutput(input, output, refOut):\n",
    "    data = []\n",
    "    for i in range(len(input)):\n",
    "        data.append({'input': input[i],'output': output[i],'type': 'output'})\n",
    "        data.append({'input': input[i],'output': refOut[i],'type': 'refOut'})\n",
    "    return alt.Chart(pd.DataFrame(data=data)).mark_line().encode(\n",
    "        x='input',\n",
    "        y='output',\n",
    "        color='type'\n",
    "    )\n",
    "\n",
    "def logGeneration(gen, maxFitness, best):\n",
    "    if gen % 10 == 0:\n",
    "        print(f'{maxFitness:.2}', end=' ')"
   ]
  },
  {
   "cell_type": "markdown",
   "metadata": {},
   "source": [
    "# Polynomial genome"
   ]
  },
  {
   "cell_type": "code",
   "execution_count": 2,
   "metadata": {},
   "outputs": [
    {
     "name": "stdout",
     "output_type": "stream",
     "text": [
      "0.51 0.58 0.59 0.61 0.66 0.73 0.7 0.71 0.76 0.87 0.84 0.89 0.97 1.1 1.4 1.6 1.6 1.9 2.2 2.4 2.5 2.6 2.8 2.7 2.7 Done!\n",
      "Output: [1.1120289938118697, 1.0744706640691741, 1.0340812312683614, 0.9903583329041223, 0.9427996064711481, 0.8909026894641295, 0.8341652193777573, 0.7720848337067225, 0.7041591699457159, 0.6298858655894283, 0.5487625581325508, 0.4602868850697739, 0.3639564838957884, 0.25926899210528553, 0.14572204719295634]\n"
     ]
    }
   ],
   "source": [
    "populationSize = 50\n",
    "nDivisions = 15\n",
    "nGenerations = 250\n",
    "\n",
    "def fitnessFunc(genome):\n",
    "    input = [n/nDivisions for n in range(nDivisions)]\n",
    "    output = [genome.evaluate(i) for i in input]\n",
    "    refOut = [f(i) for i in input]\n",
    "    diff = sum(abs(output[i]-refOut[i]) for i in range(nDivisions))\n",
    "    if diff == 0:\n",
    "        return float('inf')\n",
    "    return 1 / diff\n",
    "\n",
    "# Initialize population\n",
    "population = [PolynomialGenome(\n",
    "    mutationRate=0.5, mutationDeviation = 0.01\n",
    ") for _ in range(populationSize)]\n",
    "\n",
    "# Introduce some genetic diversity\n",
    "for i in population:\n",
    "    for _ in range(2):\n",
    "        i.mutate()\n",
    "\n",
    "# Initialise genetic algorithm\n",
    "evolver = GeneticAlgorithm(population, fitnessFunc)\n",
    "\n",
    "# Evolve for a given number of generations\n",
    "maxFitness, best = evolver.run(nGenerations, logGeneration)\n",
    "print(\"Done!\")\n",
    "input = [n/nDivisions for n in range(nDivisions)]\n",
    "output = [best.evaluate(i) for i in input]\n",
    "refOut = [f(i) for i in input]\n",
    "print(\"Output: {}\".format(output))"
   ]
  },
  {
   "cell_type": "code",
   "execution_count": 3,
   "metadata": {},
   "outputs": [
    {
     "data": {
      "text/html": [
       "\n",
       "<div id=\"altair-viz-66d8a1b983b94371bc758ddf8e0e99d9\"></div>\n",
       "<script type=\"text/javascript\">\n",
       "  (function(spec, embedOpt){\n",
       "    let outputDiv = document.currentScript.previousElementSibling;\n",
       "    if (outputDiv.id !== \"altair-viz-66d8a1b983b94371bc758ddf8e0e99d9\") {\n",
       "      outputDiv = document.getElementById(\"altair-viz-66d8a1b983b94371bc758ddf8e0e99d9\");\n",
       "    }\n",
       "    const paths = {\n",
       "      \"vega\": \"https://cdn.jsdelivr.net/npm//vega@5?noext\",\n",
       "      \"vega-lib\": \"https://cdn.jsdelivr.net/npm//vega-lib?noext\",\n",
       "      \"vega-lite\": \"https://cdn.jsdelivr.net/npm//vega-lite@4.8.1?noext\",\n",
       "      \"vega-embed\": \"https://cdn.jsdelivr.net/npm//vega-embed@6?noext\",\n",
       "    };\n",
       "\n",
       "    function loadScript(lib) {\n",
       "      return new Promise(function(resolve, reject) {\n",
       "        var s = document.createElement('script');\n",
       "        s.src = paths[lib];\n",
       "        s.async = true;\n",
       "        s.onload = () => resolve(paths[lib]);\n",
       "        s.onerror = () => reject(`Error loading script: ${paths[lib]}`);\n",
       "        document.getElementsByTagName(\"head\")[0].appendChild(s);\n",
       "      });\n",
       "    }\n",
       "\n",
       "    function showError(err) {\n",
       "      outputDiv.innerHTML = `<div class=\"error\" style=\"color:red;\">${err}</div>`;\n",
       "      throw err;\n",
       "    }\n",
       "\n",
       "    function displayChart(vegaEmbed) {\n",
       "      vegaEmbed(outputDiv, spec, embedOpt)\n",
       "        .catch(err => showError(`Javascript Error: ${err.message}<br>This usually means there's a typo in your chart specification. See the javascript console for the full traceback.`));\n",
       "    }\n",
       "\n",
       "    if(typeof define === \"function\" && define.amd) {\n",
       "      requirejs.config({paths});\n",
       "      require([\"vega-embed\"], displayChart, err => showError(`Error loading script: ${err.message}`));\n",
       "    } else if (typeof vegaEmbed === \"function\") {\n",
       "      displayChart(vegaEmbed);\n",
       "    } else {\n",
       "      loadScript(\"vega\")\n",
       "        .then(() => loadScript(\"vega-lite\"))\n",
       "        .then(() => loadScript(\"vega-embed\"))\n",
       "        .catch(showError)\n",
       "        .then(() => displayChart(vegaEmbed));\n",
       "    }\n",
       "  })({\"config\": {\"view\": {\"continuousWidth\": 400, \"continuousHeight\": 300}}, \"data\": {\"name\": \"data-9c624fac65e0e804e6930b4f72cdf7d8\"}, \"mark\": \"line\", \"encoding\": {\"color\": {\"type\": \"nominal\", \"field\": \"type\"}, \"x\": {\"type\": \"quantitative\", \"field\": \"input\"}, \"y\": {\"type\": \"quantitative\", \"field\": \"output\"}}, \"$schema\": \"https://vega.github.io/schema/vega-lite/v4.8.1.json\", \"datasets\": {\"data-9c624fac65e0e804e6930b4f72cdf7d8\": [{\"input\": 0.0, \"output\": 1.1120289938118697, \"type\": \"output\"}, {\"input\": 0.0, \"output\": 1.0, \"type\": \"refOut\"}, {\"input\": 0.06666666666666667, \"output\": 1.0744706640691741, \"type\": \"output\"}, {\"input\": 0.06666666666666667, \"output\": 0.9955555555555555, \"type\": \"refOut\"}, {\"input\": 0.13333333333333333, \"output\": 1.0340812312683614, \"type\": \"output\"}, {\"input\": 0.13333333333333333, \"output\": 0.9822222222222222, \"type\": \"refOut\"}, {\"input\": 0.2, \"output\": 0.9903583329041223, \"type\": \"output\"}, {\"input\": 0.2, \"output\": 0.96, \"type\": \"refOut\"}, {\"input\": 0.26666666666666666, \"output\": 0.9427996064711481, \"type\": \"output\"}, {\"input\": 0.26666666666666666, \"output\": 0.9288888888888889, \"type\": \"refOut\"}, {\"input\": 0.3333333333333333, \"output\": 0.8909026894641295, \"type\": \"output\"}, {\"input\": 0.3333333333333333, \"output\": 0.8888888888888888, \"type\": \"refOut\"}, {\"input\": 0.4, \"output\": 0.8341652193777573, \"type\": \"output\"}, {\"input\": 0.4, \"output\": 0.84, \"type\": \"refOut\"}, {\"input\": 0.4666666666666667, \"output\": 0.7720848337067225, \"type\": \"output\"}, {\"input\": 0.4666666666666667, \"output\": 0.7822222222222222, \"type\": \"refOut\"}, {\"input\": 0.5333333333333333, \"output\": 0.7041591699457159, \"type\": \"output\"}, {\"input\": 0.5333333333333333, \"output\": 0.7155555555555555, \"type\": \"refOut\"}, {\"input\": 0.6, \"output\": 0.6298858655894283, \"type\": \"output\"}, {\"input\": 0.6, \"output\": 0.64, \"type\": \"refOut\"}, {\"input\": 0.6666666666666666, \"output\": 0.5487625581325508, \"type\": \"output\"}, {\"input\": 0.6666666666666666, \"output\": 0.5555555555555556, \"type\": \"refOut\"}, {\"input\": 0.7333333333333333, \"output\": 0.4602868850697739, \"type\": \"output\"}, {\"input\": 0.7333333333333333, \"output\": 0.4622222222222223, \"type\": \"refOut\"}, {\"input\": 0.8, \"output\": 0.3639564838957884, \"type\": \"output\"}, {\"input\": 0.8, \"output\": 0.3599999999999999, \"type\": \"refOut\"}, {\"input\": 0.8666666666666667, \"output\": 0.25926899210528553, \"type\": \"output\"}, {\"input\": 0.8666666666666667, \"output\": 0.24888888888888883, \"type\": \"refOut\"}, {\"input\": 0.9333333333333333, \"output\": 0.14572204719295634, \"type\": \"output\"}, {\"input\": 0.9333333333333333, \"output\": 0.12888888888888883, \"type\": \"refOut\"}]}}, {\"mode\": \"vega-lite\"});\n",
       "</script>"
      ],
      "text/plain": [
       "alt.Chart(...)"
      ]
     },
     "execution_count": 3,
     "metadata": {},
     "output_type": "execute_result"
    }
   ],
   "source": [
    "plotOutput(input, output, refOut)"
   ]
  },
  {
   "cell_type": "markdown",
   "metadata": {},
   "source": [
    "# Neat genome"
   ]
  },
  {
   "cell_type": "code",
   "execution_count": 4,
   "metadata": {},
   "outputs": [
    {
     "name": "stdout",
     "output_type": "stream",
     "text": [
      "0.6 0.93 1.1 1.1 1.1 1.1 1.1 1.1 1.1 1.1 1.1 1.1 1.1 1.1 1.1 1.1 1.1 1.1 1.1 1.1 1.1 1.1 1.1 1.1 1.1 1.1 1.1 1.1 1.1 1.1 1.1 1.1 1.0 1.0 1.0 1.0 1.0 1.0 1.0 1.0 1.0 1.0 1.0 1.0 1.0 1.0 1.0 1.0 1.0 1.0 Done!\n",
      "Output: [1.2077250036641103, 1.1400583637871022, 1.0723917239100942, 1.0047250840330861, 0.9370584441560782, 0.8693918042790701, 0.801725164402062, 0.734058524525054, 0.6663918846480461, 0.5987252447710381, 0.53105860489403, 0.46339196501702196, 0.3957253251400138, 0.32805868526300586, 0.26039204538599775]\n"
     ]
    },
    {
     "data": {
      "image/png": "[encoded data removed]",
      "text/plain": [
       "<Figure size 432x288 with 1 Axes>"
      ]
     },
     "metadata": {},
     "output_type": "display_data"
    }
   ],
   "source": [
    "populationSize = 100\n",
    "nDivisions = 15\n",
    "nGenerations = 500\n",
    "\n",
    "def fitnessFunc(genome):\n",
    "    input = [n/nDivisions for n in range(nDivisions)]\n",
    "    output = [genome.evaluate2([i], 10)[0] for i in input]\n",
    "    refOut = [f(i) for i in input]\n",
    "    diff = sum(abs(output[i]-refOut[i]) for i in range(nDivisions))\n",
    "    if diff == 0:\n",
    "        return float('inf')\n",
    "    return 1 / diff\n",
    "\n",
    "# Initialize population\n",
    "population = [NeatGenome(1, 1) for _ in range(populationSize)]\n",
    "\n",
    "# Introduce some genetic diversity\n",
    "for i in population:\n",
    "    for _ in range(2):\n",
    "        i.mutate()\n",
    "\n",
    "# Initialise genetic algorithm\n",
    "evolver = GeneticAlgorithm(population, fitnessFunc)\n",
    "\n",
    "# Evolve for a given number of generations\n",
    "maxFitness, best = evolver.run(nGenerations, logGeneration)\n",
    "print(\"Done!\")\n",
    "best.draw()\n",
    "input = [n/nDivisions for n in range(nDivisions)]\n",
    "output = [best.evaluate([i])[0] for i in input]\n",
    "refOut = [f(i) for i in input]\n",
    "print(\"Output: {}\".format(output))"
   ]
  },
  {
   "cell_type": "code",
   "execution_count": 5,
   "metadata": {},
   "outputs": [
    {
     "data": {
      "text/html": [
       "\n",
       "<div id=\"altair-viz-93b796d8420944b7a6da0e2bc39d52c9\"></div>\n",
       "<script type=\"text/javascript\">\n",
       "  (function(spec, embedOpt){\n",
       "    let outputDiv = document.currentScript.previousElementSibling;\n",
       "    if (outputDiv.id !== \"altair-viz-93b796d8420944b7a6da0e2bc39d52c9\") {\n",
       "      outputDiv = document.getElementById(\"altair-viz-93b796d8420944b7a6da0e2bc39d52c9\");\n",
       "    }\n",
       "    const paths = {\n",
       "      \"vega\": \"https://cdn.jsdelivr.net/npm//vega@5?noext\",\n",
       "      \"vega-lib\": \"https://cdn.jsdelivr.net/npm//vega-lib?noext\",\n",
       "      \"vega-lite\": \"https://cdn.jsdelivr.net/npm//vega-lite@4.8.1?noext\",\n",
       "      \"vega-embed\": \"https://cdn.jsdelivr.net/npm//vega-embed@6?noext\",\n",
       "    };\n",
       "\n",
       "    function loadScript(lib) {\n",
       "      return new Promise(function(resolve, reject) {\n",
       "        var s = document.createElement('script');\n",
       "        s.src = paths[lib];\n",
       "        s.async = true;\n",
       "        s.onload = () => resolve(paths[lib]);\n",
       "        s.onerror = () => reject(`Error loading script: ${paths[lib]}`);\n",
       "        document.getElementsByTagName(\"head\")[0].appendChild(s);\n",
       "      });\n",
       "    }\n",
       "\n",
       "    function showError(err) {\n",
       "      outputDiv.innerHTML = `<div class=\"error\" style=\"color:red;\">${err}</div>`;\n",
       "      throw err;\n",
       "    }\n",
       "\n",
       "    function displayChart(vegaEmbed) {\n",
       "      vegaEmbed(outputDiv, spec, embedOpt)\n",
       "        .catch(err => showError(`Javascript Error: ${err.message}<br>This usually means there's a typo in your chart specification. See the javascript console for the full traceback.`));\n",
       "    }\n",
       "\n",
       "    if(typeof define === \"function\" && define.amd) {\n",
       "      requirejs.config({paths});\n",
       "      require([\"vega-embed\"], displayChart, err => showError(`Error loading script: ${err.message}`));\n",
       "    } else if (typeof vegaEmbed === \"function\") {\n",
       "      displayChart(vegaEmbed);\n",
       "    } else {\n",
       "      loadScript(\"vega\")\n",
       "        .then(() => loadScript(\"vega-lite\"))\n",
       "        .then(() => loadScript(\"vega-embed\"))\n",
       "        .catch(showError)\n",
       "        .then(() => displayChart(vegaEmbed));\n",
       "    }\n",
       "  })({\"config\": {\"view\": {\"continuousWidth\": 400, \"continuousHeight\": 300}}, \"data\": {\"name\": \"data-d813adb75143ff7de9755ee066e9a5b4\"}, \"mark\": \"line\", \"encoding\": {\"color\": {\"type\": \"nominal\", \"field\": \"type\"}, \"x\": {\"type\": \"quantitative\", \"field\": \"input\"}, \"y\": {\"type\": \"quantitative\", \"field\": \"output\"}}, \"$schema\": \"https://vega.github.io/schema/vega-lite/v4.8.1.json\", \"datasets\": {\"data-d813adb75143ff7de9755ee066e9a5b4\": [{\"input\": 0.0, \"output\": 1.2077250036641103, \"type\": \"output\"}, {\"input\": 0.0, \"output\": 1.0, \"type\": \"refOut\"}, {\"input\": 0.06666666666666667, \"output\": 1.1400583637871022, \"type\": \"output\"}, {\"input\": 0.06666666666666667, \"output\": 0.9955555555555555, \"type\": \"refOut\"}, {\"input\": 0.13333333333333333, \"output\": 1.0723917239100942, \"type\": \"output\"}, {\"input\": 0.13333333333333333, \"output\": 0.9822222222222222, \"type\": \"refOut\"}, {\"input\": 0.2, \"output\": 1.0047250840330861, \"type\": \"output\"}, {\"input\": 0.2, \"output\": 0.96, \"type\": \"refOut\"}, {\"input\": 0.26666666666666666, \"output\": 0.9370584441560782, \"type\": \"output\"}, {\"input\": 0.26666666666666666, \"output\": 0.9288888888888889, \"type\": \"refOut\"}, {\"input\": 0.3333333333333333, \"output\": 0.8693918042790701, \"type\": \"output\"}, {\"input\": 0.3333333333333333, \"output\": 0.8888888888888888, \"type\": \"refOut\"}, {\"input\": 0.4, \"output\": 0.801725164402062, \"type\": \"output\"}, {\"input\": 0.4, \"output\": 0.84, \"type\": \"refOut\"}, {\"input\": 0.4666666666666667, \"output\": 0.734058524525054, \"type\": \"output\"}, {\"input\": 0.4666666666666667, \"output\": 0.7822222222222222, \"type\": \"refOut\"}, {\"input\": 0.5333333333333333, \"output\": 0.6663918846480461, \"type\": \"output\"}, {\"input\": 0.5333333333333333, \"output\": 0.7155555555555555, \"type\": \"refOut\"}, {\"input\": 0.6, \"output\": 0.5987252447710381, \"type\": \"output\"}, {\"input\": 0.6, \"output\": 0.64, \"type\": \"refOut\"}, {\"input\": 0.6666666666666666, \"output\": 0.53105860489403, \"type\": \"output\"}, {\"input\": 0.6666666666666666, \"output\": 0.5555555555555556, \"type\": \"refOut\"}, {\"input\": 0.7333333333333333, \"output\": 0.46339196501702196, \"type\": \"output\"}, {\"input\": 0.7333333333333333, \"output\": 0.4622222222222223, \"type\": \"refOut\"}, {\"input\": 0.8, \"output\": 0.3957253251400138, \"type\": \"output\"}, {\"input\": 0.8, \"output\": 0.3599999999999999, \"type\": \"refOut\"}, {\"input\": 0.8666666666666667, \"output\": 0.32805868526300586, \"type\": \"output\"}, {\"input\": 0.8666666666666667, \"output\": 0.24888888888888883, \"type\": \"refOut\"}, {\"input\": 0.9333333333333333, \"output\": 0.26039204538599775, \"type\": \"output\"}, {\"input\": 0.9333333333333333, \"output\": 0.12888888888888883, \"type\": \"refOut\"}]}}, {\"mode\": \"vega-lite\"});\n",
       "</script>"
      ],
      "text/plain": [
       "alt.Chart(...)"
      ]
     },
     "execution_count": 5,
     "metadata": {},
     "output_type": "execute_result"
    }
   ],
   "source": [
    "plotOutput(input, output, refOut)"
   ]
  },
  {
   "cell_type": "code",
   "execution_count": null,
   "metadata": {},
   "outputs": [],
   "source": []
  }
 ],
 "metadata": {
  "kernelspec": {
   "display_name": "Python 3.9.6 ('base')",
   "language": "python",
   "name": "python3"
  },
  "language_info": {
   "codemirror_mode": {
    "name": "ipython",
    "version": 3
   },
   "file_extension": ".py",
   "mimetype": "text/x-python",
   "name": "python",
   "nbconvert_exporter": "python",
   "pygments_lexer": "ipython3",
   "version": "3.9.6"
  },
  "orig_nbformat": 4,
  "vscode": {
   "interpreter": {
    "hash": "4d7c7867966a8166ee283cfecc69f53ebdea2b9918e014bceea220254c526424"
   }
  }
 },
 "nbformat": 4,
 "nbformat_minor": 2
}
